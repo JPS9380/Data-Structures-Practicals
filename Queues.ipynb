{
 "cells": [
  {
   "cell_type": "code",
   "execution_count": 1,
   "id": "bbbd1711-c531-4d82-bad5-59659c11a7e1",
   "metadata": {},
   "outputs": [],
   "source": [
    "#structure of a queue as ADT\n",
    "class  queue:\n",
    "    def __init__(self):\n",
    "        self.items = []\n",
    "\n",
    "    def enqueue(self, item):\n",
    "        self.items.append(item)\n",
    "    def is_empty(self):\n",
    "        return len(self.items) == 0\n",
    "    def dequeue(self):\n",
    "        if self.is_empty():\n",
    "            print(\"Already Empty\")\n",
    "        else:\n",
    "            return self.items.pop(0)\n",
    "    def peek(self):\n",
    "        if self.is_empty():\n",
    "            return None\n",
    "        else:\n",
    "            return self.items[0]\n",
    "    def size(self):\n",
    "        return len(self.items)\n",
    "    def print(self):\n",
    "        lst = []\n",
    "        for i in self.items:\n",
    "            lst.append(i)\n",
    "        return lst\n"
   ]
  },
  {
   "cell_type": "code",
   "execution_count": 2,
   "id": "49ec7425-820d-412a-aef7-5380097e8aef",
   "metadata": {},
   "outputs": [],
   "source": [
    "Q = queue()"
   ]
  },
  {
   "cell_type": "code",
   "execution_count": 3,
   "id": "a9a34ac0-cba6-41c5-bb35-bcb4bbc00398",
   "metadata": {},
   "outputs": [],
   "source": [
    "Q.enqueue(5)"
   ]
  },
  {
   "cell_type": "code",
   "execution_count": 4,
   "id": "c878cbc3-eff2-4f56-bb3b-124ad385c813",
   "metadata": {},
   "outputs": [],
   "source": [
    "Q.enqueue(10)"
   ]
  },
  {
   "cell_type": "code",
   "execution_count": 5,
   "id": "9e6611c4-9ebd-465f-87a4-8d8447169a56",
   "metadata": {},
   "outputs": [],
   "source": [
    "Q.enqueue(15)"
   ]
  },
  {
   "cell_type": "code",
   "execution_count": 6,
   "id": "5dbf45e9-4069-433f-bee8-983faf82ea08",
   "metadata": {},
   "outputs": [
    {
     "data": {
      "text/plain": [
       "[5, 10, 15]"
      ]
     },
     "execution_count": 6,
     "metadata": {},
     "output_type": "execute_result"
    }
   ],
   "source": [
    "Q.print()"
   ]
  },
  {
   "cell_type": "code",
   "execution_count": 7,
   "id": "013a07f0-7e5d-4dd7-9e17-5709e18c1749",
   "metadata": {},
   "outputs": [
    {
     "data": {
      "text/plain": [
       "5"
      ]
     },
     "execution_count": 7,
     "metadata": {},
     "output_type": "execute_result"
    }
   ],
   "source": [
    "Q.peek()"
   ]
  },
  {
   "cell_type": "code",
   "execution_count": 8,
   "id": "07f010db-816d-4581-b8ca-ed09c911d5d6",
   "metadata": {},
   "outputs": [
    {
     "data": {
      "text/plain": [
       "False"
      ]
     },
     "execution_count": 8,
     "metadata": {},
     "output_type": "execute_result"
    }
   ],
   "source": [
    "Q.is_empty()"
   ]
  },
  {
   "cell_type": "code",
   "execution_count": 9,
   "id": "25330c72-95f2-41e6-accf-2fd4ba0eadd2",
   "metadata": {},
   "outputs": [
    {
     "data": {
      "text/plain": [
       "3"
      ]
     },
     "execution_count": 9,
     "metadata": {},
     "output_type": "execute_result"
    }
   ],
   "source": [
    "Q.size()"
   ]
  },
  {
   "cell_type": "code",
   "execution_count": 10,
   "id": "aba3c9c6-c0a8-44b4-bfea-dc7720f6b342",
   "metadata": {},
   "outputs": [
    {
     "data": {
      "text/plain": [
       "5"
      ]
     },
     "execution_count": 10,
     "metadata": {},
     "output_type": "execute_result"
    }
   ],
   "source": [
    "Q.dequeue()"
   ]
  },
  {
   "cell_type": "code",
   "execution_count": 11,
   "id": "4b951d7b-291e-4416-89d1-f1f82d6531bb",
   "metadata": {},
   "outputs": [
    {
     "data": {
      "text/plain": [
       "[10, 15]"
      ]
     },
     "execution_count": 11,
     "metadata": {},
     "output_type": "execute_result"
    }
   ],
   "source": [
    "Q.print()"
   ]
  }
 ],
 "metadata": {
  "kernelspec": {
   "display_name": "Python 3 (ipykernel)",
   "language": "python",
   "name": "python3"
  },
  "language_info": {
   "codemirror_mode": {
    "name": "ipython",
    "version": 3
   },
   "file_extension": ".py",
   "mimetype": "text/x-python",
   "name": "python",
   "nbconvert_exporter": "python",
   "pygments_lexer": "ipython3",
   "version": "3.12.0"
  }
 },
 "nbformat": 4,
 "nbformat_minor": 5
}
