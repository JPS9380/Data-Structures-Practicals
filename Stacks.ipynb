{
 "cells": [
  {
   "cell_type": "code",
   "execution_count": 9,
   "id": "a567d2a8-9355-4b39-a10b-8bc46d03b84d",
   "metadata": {},
   "outputs": [],
   "source": [
    "#structure of a stack\n",
    "class stack:\n",
    "    def __init__(self):\n",
    "        self.items = []\n",
    "\n",
    "    def push(self, item):\n",
    "        self.items.append(item)\n",
    "\n",
    "    def is_empty(self):\n",
    "        return len(self.items) == 0\n",
    "\n",
    "    def pop(self):\n",
    "        if self.is_empty():\n",
    "            print(\"Stack already empty\")\n",
    "        else:\n",
    "            return self.items.pop()\n",
    "\n",
    "    def peek(self):\n",
    "        if self.is_empty():\n",
    "            print(\"Stack empty\")\n",
    "        else:\n",
    "            return self.items[-1]\n",
    "\n",
    "    def size(self):\n",
    "        return len(self.items)\n",
    "\n",
    "    def print_stack(self):\n",
    "        lst = []\n",
    "        for i in self.items:\n",
    "            lst.append(i)\n",
    "        print(lst)"
   ]
  },
  {
   "cell_type": "code",
   "execution_count": 10,
   "id": "32ba44b5-c39c-45bb-a667-172016a99cde",
   "metadata": {},
   "outputs": [],
   "source": [
    "st = stack()"
   ]
  },
  {
   "cell_type": "code",
   "execution_count": 11,
   "id": "a3d7a64c-bccd-43a2-8add-0cd323ee2555",
   "metadata": {},
   "outputs": [],
   "source": [
    "st.push(5)"
   ]
  },
  {
   "cell_type": "code",
   "execution_count": 12,
   "id": "9da3fefc-e022-4fbf-8f7e-f554cc5ce722",
   "metadata": {},
   "outputs": [],
   "source": [
    "st.push(10)"
   ]
  },
  {
   "cell_type": "code",
   "execution_count": 13,
   "id": "9c80c3ca-f53d-45f6-8ded-041912ca75f1",
   "metadata": {},
   "outputs": [],
   "source": [
    "st.push(15)"
   ]
  },
  {
   "cell_type": "code",
   "execution_count": 14,
   "id": "9484ba77-e0e8-4dfd-8862-01274ba1562c",
   "metadata": {},
   "outputs": [
    {
     "name": "stdout",
     "output_type": "stream",
     "text": [
      "[5, 10, 15]\n"
     ]
    }
   ],
   "source": [
    "st.print_stack()"
   ]
  },
  {
   "cell_type": "code",
   "execution_count": 15,
   "id": "036541e2-913d-4b70-8b86-dcb132934ec0",
   "metadata": {},
   "outputs": [
    {
     "data": {
      "text/plain": [
       "15"
      ]
     },
     "execution_count": 15,
     "metadata": {},
     "output_type": "execute_result"
    }
   ],
   "source": [
    "st.peek()"
   ]
  },
  {
   "cell_type": "code",
   "execution_count": 16,
   "id": "2a06860f-1807-4ae9-998b-8deb84664b31",
   "metadata": {},
   "outputs": [
    {
     "data": {
      "text/plain": [
       "15"
      ]
     },
     "execution_count": 16,
     "metadata": {},
     "output_type": "execute_result"
    }
   ],
   "source": [
    "st.pop()"
   ]
  },
  {
   "cell_type": "code",
   "execution_count": 17,
   "id": "981a8ef8-edf0-45c7-a126-0307c29f353c",
   "metadata": {},
   "outputs": [
    {
     "name": "stdout",
     "output_type": "stream",
     "text": [
      "[5, 10]\n"
     ]
    }
   ],
   "source": [
    "st.print_stack()"
   ]
  },
  {
   "cell_type": "code",
   "execution_count": 18,
   "id": "b74035d5-b68f-44f4-9aba-539836579b57",
   "metadata": {},
   "outputs": [
    {
     "data": {
      "text/plain": [
       "False"
      ]
     },
     "execution_count": 18,
     "metadata": {},
     "output_type": "execute_result"
    }
   ],
   "source": [
    "st.is_empty()"
   ]
  },
  {
   "cell_type": "code",
   "execution_count": 19,
   "id": "42ca27a9-a120-4a95-931d-7d7bef601ed6",
   "metadata": {},
   "outputs": [
    {
     "data": {
      "text/plain": [
       "2"
      ]
     },
     "execution_count": 19,
     "metadata": {},
     "output_type": "execute_result"
    }
   ],
   "source": [
    "st.size()"
   ]
  },
  {
   "cell_type": "code",
   "execution_count": 20,
   "id": "1955ea70-aa5f-4834-8c9d-864f9ef77758",
   "metadata": {},
   "outputs": [],
   "source": [
    "#evaluating postfix on stack\n",
    "st = stack()\n",
    "expression = \"5 6 2 + * 12 4 / -\""
   ]
  },
  {
   "cell_type": "code",
   "execution_count": 23,
   "id": "3ea93feb-c817-46a4-8b79-1a9c57d36406",
   "metadata": {},
   "outputs": [],
   "source": [
    "def postfix_evaluation(expression):\n",
    "    for i in expression.split():\n",
    "        if i.isdigit():\n",
    "            st.push(int(i))\n",
    "        else:\n",
    "            operand2 = st.pop()\n",
    "            operand1 = st.pop()\n",
    "    \n",
    "            if i == \"+\":\n",
    "                result = operand1+operand2\n",
    "            elif i == \"-\":\n",
    "                result = operand1-operand2\n",
    "            elif i == \"*\":\n",
    "                result = operand1*operand2\n",
    "            elif i == \"/\":\n",
    "                result = operand1/operand2\n",
    "            else:\n",
    "                raise ValueError(\"Unknown operator\")\n",
    "            st.push(result)\n",
    "    \n",
    "    return st.pop()\n"
   ]
  },
  {
   "cell_type": "code",
   "execution_count": 24,
   "id": "2d254a6b-63ba-4fd9-b38d-5d96210c8ca9",
   "metadata": {},
   "outputs": [],
   "source": [
    "result = postfix_evaluation(expression)"
   ]
  },
  {
   "cell_type": "code",
   "execution_count": 25,
   "id": "dfdf9ca7-aff6-4d81-bcc1-7f8b75325ee2",
   "metadata": {},
   "outputs": [
    {
     "data": {
      "text/plain": [
       "37.0"
      ]
     },
     "execution_count": 25,
     "metadata": {},
     "output_type": "execute_result"
    }
   ],
   "source": [
    "result"
   ]
  }
 ],
 "metadata": {
  "kernelspec": {
   "display_name": "Python 3 (ipykernel)",
   "language": "python",
   "name": "python3"
  },
  "language_info": {
   "codemirror_mode": {
    "name": "ipython",
    "version": 3
   },
   "file_extension": ".py",
   "mimetype": "text/x-python",
   "name": "python",
   "nbconvert_exporter": "python",
   "pygments_lexer": "ipython3",
   "version": "3.12.0"
  }
 },
 "nbformat": 4,
 "nbformat_minor": 5
}
