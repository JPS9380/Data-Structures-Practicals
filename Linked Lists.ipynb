{
 "cells": [
  {
   "cell_type": "markdown",
   "id": "9f9bcbaf-c746-4174-beac-ba761bf75547",
   "metadata": {},
   "source": [
    "# linked lists basic structure"
   ]
  },
  {
   "cell_type": "code",
   "execution_count": 61,
   "id": "3ff20fbc-95b1-495b-9f9d-331d0f0cee31",
   "metadata": {},
   "outputs": [
    {
     "name": "stdout",
     "output_type": "stream",
     "text": [
      "2 -> 4 -> 6 -> 8 -> Null\n"
     ]
    }
   ],
   "source": [
    "#creating a singly linked list\n",
    "class Node:\n",
    "    def __init__(self, data):\n",
    "        self.data = data\n",
    "        self.next = None\n",
    "\n",
    "node1 = Node(2)\n",
    "node2 = Node(4)\n",
    "node3 = Node(6)\n",
    "node4 = Node(8)\n",
    "\n",
    "node1.next = node2\n",
    "node2.next = node3\n",
    "node3.next = node4\n",
    "\n",
    "#traversing through the list\n",
    "current_node = node1\n",
    "while current_node:\n",
    "    print(current_node.data, end = \" -> \")\n",
    "    current_node = current_node.next\n",
    "\n",
    "print(\"Null\")"
   ]
  },
  {
   "cell_type": "code",
   "execution_count": 62,
   "id": "3504ad5e-edc6-4de8-87a6-ec1b76d98b1a",
   "metadata": {},
   "outputs": [
    {
     "name": "stdout",
     "output_type": "stream",
     "text": [
      "2 -> 4 -> 6 -> 8 -> Null\n",
      "8 -> 6 -> 4 -> 2 -> Null\n"
     ]
    }
   ],
   "source": [
    "#creating a doubly linked list\n",
    "class Node:\n",
    "    def __init__(self,data):\n",
    "        self.data = data\n",
    "        self.next = None\n",
    "        self.prev = None\n",
    "\n",
    "node1 = Node(2)\n",
    "node2 = Node(4)\n",
    "node3 = Node(6)\n",
    "node4 = Node(8)\n",
    "\n",
    "node1.next = node2\n",
    "\n",
    "node2.prev = node1\n",
    "node2.next = node3\n",
    "\n",
    "node3.prev = node2\n",
    "node3.next = node4\n",
    "\n",
    "node4.prev = node3\n",
    "\n",
    "#travering forward\n",
    "current_node = node1\n",
    "while current_node:\n",
    "    print(current_node.data, end = \" -> \")\n",
    "    current_node = current_node.next\n",
    "print(\"Null\")\n",
    "\n",
    "#traversing backwards\n",
    "current_node = node4\n",
    "while current_node:\n",
    "    print(current_node.data, end = \" -> \")\n",
    "    current_node = current_node.prev\n",
    "\n",
    "print(\"Null\")"
   ]
  },
  {
   "cell_type": "code",
   "execution_count": 63,
   "id": "3f66dd07-653c-4363-ac5d-387249ea3410",
   "metadata": {},
   "outputs": [
    {
     "name": "stdout",
     "output_type": "stream",
     "text": [
      "2 -> 4 -> 6 -> 8 -> ....\n"
     ]
    }
   ],
   "source": [
    "#creating the singly circular linked list\n",
    "class Node:\n",
    "    def __init__(self,data):\n",
    "        self.data = data\n",
    "        self.next = None\n",
    "        self.prev = None\n",
    "\n",
    "node1 = Node(2)\n",
    "node2 = Node(4)\n",
    "node3 = Node(6)\n",
    "node4 = Node(8)\n",
    "\n",
    "node1.next = node2\n",
    "\n",
    "node2.prev = node1\n",
    "node2.next = node3\n",
    "\n",
    "node3.prev = node2\n",
    "node3.next = node4\n",
    "\n",
    "node4.prev = node3\n",
    "node4.next = node1\n",
    "\n",
    "#traversing through the list\n",
    "start_node = node1\n",
    "current_node = node1\n",
    "\n",
    "while True:\n",
    "    print(current_node.data, end = \" -> \")\n",
    "    current_node = current_node.next\n",
    "    if current_node == start_node:\n",
    "        break\n",
    "\n",
    "print(\"....\")"
   ]
  },
  {
   "cell_type": "markdown",
   "id": "d849d933-9cd2-40e1-951c-b095dfd10cce",
   "metadata": {},
   "source": [
    "# linked lists operations"
   ]
  },
  {
   "cell_type": "code",
   "execution_count": 64,
   "id": "7d929f81-8737-4d2a-9e2c-ba52c269d90e",
   "metadata": {},
   "outputs": [],
   "source": [
    "#operations on singly linked lists\n",
    "class Node:\n",
    "    def __init__(self,data):\n",
    "        self.data = data\n",
    "        self.next = None\n",
    "\n",
    "class sll:\n",
    "    def __init__(self):\n",
    "        self.head = None\n",
    "\n",
    "    def insert_at_beginning(self, x):\n",
    "        new_node = Node(x)\n",
    "        new_node.next = self.head\n",
    "        self.head = new_node\n",
    "\n",
    "    def insert_at_i(self, i, x):\n",
    "        if i == 0:\n",
    "            self.insert_at_beginning(x)\n",
    "            return\n",
    "\n",
    "        new_node = Node(x)\n",
    "        temp = self.head\n",
    "        count = 0\n",
    "        while temp is not None and count < (i-1):\n",
    "            temp = temp.next\n",
    "            count += 1\n",
    "        if temp is None:\n",
    "            print(\"Position out of bounds\")\n",
    "            return\n",
    "        new_node.next = temp.next\n",
    "        temp.next = new_node\n",
    "    def remove_at_position(self, i):\n",
    "        if self.head is None:\n",
    "            print(\"Already empty\")\n",
    "            return\n",
    "        temp = self.head\n",
    "        count = 0\n",
    "        while temp is not None and count < (i-1):\n",
    "            temp = temp.next\n",
    "            count += 1\n",
    "        if temp is None or temp.next is None:\n",
    "            print(\"Position out of bounds\")\n",
    "            return\n",
    "        temp.next = temp.next.next\n",
    "\n",
    "    def search(self, x):\n",
    "        temp = self.head\n",
    "        while temp is not None:\n",
    "            if temp.data == x:\n",
    "                return temp\n",
    "            temp = temp.next\n",
    "        return None\n",
    "\n",
    "    def print_list(self):\n",
    "        temp = self.head\n",
    "        while temp:\n",
    "            print(temp.data, end = \" -> \")\n",
    "            temp = temp.next\n",
    "        print(\"NULL\")"
   ]
  },
  {
   "cell_type": "code",
   "execution_count": 65,
   "id": "55b12acf-c5a2-485e-b852-be5cca56c825",
   "metadata": {},
   "outputs": [],
   "source": [
    "#operations on doubly linked lists\n",
    "class Node:\n",
    "    def __init__(self,data):\n",
    "        self.data = data\n",
    "        self.next = None\n",
    "        self.prev = None\n",
    "class dll:\n",
    "    def __init__(self):\n",
    "        self.head = None\n",
    "\n",
    "    def insert_at_beginning(self,x):\n",
    "        new_node = Node(x)\n",
    "        new_node.next = self.head\n",
    "        if self.head is not None:\n",
    "            self.head.prev = new_node\n",
    "        self.head = new_node\n",
    "\n",
    "    def insert_at_end(self,x):\n",
    "        new_node = Node(x)\n",
    "        if self.head is None:\n",
    "            self.head = new_node\n",
    "            return\n",
    "        temp = self.head\n",
    "        while temp.next:\n",
    "            temp = temp.next\n",
    "        temp.next = new_node\n",
    "        new_node.prev = temp\n",
    "\n",
    "    def rem_from_beg(self):\n",
    "        if self.head is None:\n",
    "            print(\"list already empty\")\n",
    "            return\n",
    "        if self.head.next is None:\n",
    "            self.head = None\n",
    "        else:\n",
    "            self.head = self.head.next\n",
    "            self.head.prev = None\n",
    "\n",
    "    def rem_from_end(self):\n",
    "        if self.head is None:\n",
    "            print(\"List is already empty\")\n",
    "            return\n",
    "        if self.head.next is None:\n",
    "            self.head = None\n",
    "        temp = self.head\n",
    "        while temp.next:\n",
    "            temp = temp.next\n",
    "        temp.prev.next = None\n",
    "\n",
    "    def print_list(self):\n",
    "        temp = self.head\n",
    "        while temp:\n",
    "            print(temp.data, end = \" -> \")\n",
    "            temp = temp.next\n",
    "        print(\"NULL\")\n"
   ]
  },
  {
   "cell_type": "code",
   "execution_count": 66,
   "id": "938a3aa2-d910-4d9c-bf5c-0a4636555df2",
   "metadata": {},
   "outputs": [],
   "source": [
    "dll = dll()"
   ]
  },
  {
   "cell_type": "code",
   "execution_count": 67,
   "id": "7143add0-9cb4-435a-a6af-856a0eb61c79",
   "metadata": {},
   "outputs": [
    {
     "name": "stdout",
     "output_type": "stream",
     "text": [
      "5 -> NULL\n"
     ]
    }
   ],
   "source": [
    "dll.insert_at_beginning(5)\n",
    "dll.print_list()"
   ]
  },
  {
   "cell_type": "code",
   "execution_count": 68,
   "id": "da84ed6c-adc6-49b0-98d1-432329d8131f",
   "metadata": {},
   "outputs": [
    {
     "name": "stdout",
     "output_type": "stream",
     "text": [
      "10 -> 5 -> NULL\n"
     ]
    }
   ],
   "source": [
    "dll.insert_at_beginning(10)\n",
    "dll.print_list()"
   ]
  },
  {
   "cell_type": "code",
   "execution_count": 69,
   "id": "1ee35a6f-f36d-4fc8-aa5e-c056b9a23e12",
   "metadata": {},
   "outputs": [
    {
     "name": "stdout",
     "output_type": "stream",
     "text": [
      "10 -> 5 -> 15 -> NULL\n"
     ]
    }
   ],
   "source": [
    "dll.insert_at_end(15)\n",
    "dll.print_list()"
   ]
  },
  {
   "cell_type": "code",
   "execution_count": 70,
   "id": "ec7a2443-6a5e-4ff3-9e47-4c397397415a",
   "metadata": {},
   "outputs": [
    {
     "name": "stdout",
     "output_type": "stream",
     "text": [
      "10 -> 5 -> NULL\n"
     ]
    }
   ],
   "source": [
    "dll.rem_from_end()\n",
    "dll.print_list()"
   ]
  },
  {
   "cell_type": "code",
   "execution_count": 71,
   "id": "41ee7cd9-fea8-4509-9b91-67321e05033f",
   "metadata": {},
   "outputs": [
    {
     "name": "stdout",
     "output_type": "stream",
     "text": [
      "5 -> NULL\n"
     ]
    }
   ],
   "source": [
    "dll.rem_from_beg()\n",
    "dll.print_list()"
   ]
  }
 ],
 "metadata": {
  "kernelspec": {
   "display_name": "Python 3 (ipykernel)",
   "language": "python",
   "name": "python3"
  },
  "language_info": {
   "codemirror_mode": {
    "name": "ipython",
    "version": 3
   },
   "file_extension": ".py",
   "mimetype": "text/x-python",
   "name": "python",
   "nbconvert_exporter": "python",
   "pygments_lexer": "ipython3",
   "version": "3.12.0"
  }
 },
 "nbformat": 4,
 "nbformat_minor": 5
}
